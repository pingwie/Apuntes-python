{
 "cells": [
  {
   "cell_type": "markdown",
   "metadata": {},
   "source": [
    "# Números y más con Python!\n",
    "\n",
    "En esta lección , aprenderemos acerca de los números en Python y cómo usarlos.\n",
    "\n",
    "Veremos los siguientes temas:\n",
    "\n",
    "    1.) Tipos de números en Python\n",
    "    2.) Aritmética básia\n",
    "    3.) Diferencia entre división clásica y división entera\n",
    "    4.) Asignación de objetos en Python"
   ]
  },
  {
   "cell_type": "markdown",
   "metadata": {},
   "source": [
    "## Tipos de números\n",
    "\n",
    "Python tiene varios tipos de números (literales numéricos). Nos centraremos principalmente en enteros (integers) y números en coma flotante (float point).\n",
    "\n",
    "Integers: Son números enteros, positivos o negativos sin decimales. Por ejemplo: 2 and -2 son enteros.\n",
    "\n",
    "Floating point: Son los números decimales en  Python, osn fñacilmente distinguibles porque tienen un punto decimal en ellos, o usan un exponencial (e) para definir el número(e). Por ejemplo  2.0 y -2.1 son ejemplos de números en coma flotante. \n",
    "4E2 (4 por  10 elevado a 2) es también un ejemplo de número en coma flotante en Python.\n",
    "\n",
    "Durante el curso trabajaremos principalmentecon enteros y puntos en coma flotante.\n",
    "\n",
    "Aquí hay una tabla con algunos ejemplos de los tipos de números que veremos principalmente:"
   ]
  },
  {
   "cell_type": "markdown",
   "metadata": {},
   "source": [
    "<table>\n",
    "<tr>\n",
    "    <th>Ejemplos</th> \n",
    "    <th>\"Tipo\" de número</th>\n",
    "</tr>\n",
    "\n",
    "<tr>\n",
    "    <td>1,2,-5,1000</td>\n",
    "    <td>Enteros</td> \n",
    "</tr>\n",
    "\n",
    "<tr>\n",
    "    <td>1.2,-0.5,2e2,3E2</td> \n",
    "    <td>Números en coma flotante</td> \n",
    "</tr>\n",
    " </table>"
   ]
  },
  {
   "cell_type": "markdown",
   "metadata": {},
   "source": [
    " \n",
    " \n",
    "Empecemos con algo de aritmética básica."
   ]
  },
  {
   "cell_type": "markdown",
   "metadata": {},
   "source": [
    "### Aritmética básica"
   ]
  },
  {
   "cell_type": "code",
   "execution_count": 1,
   "metadata": {},
   "outputs": [
    {
     "data": {
      "text/plain": [
       "3"
      ]
     },
     "execution_count": 1,
     "metadata": {},
     "output_type": "execute_result"
    }
   ],
   "source": [
    "# Suma\n",
    "2+1"
   ]
  },
  {
   "cell_type": "code",
   "execution_count": 2,
   "metadata": {},
   "outputs": [
    {
     "data": {
      "text/plain": [
       "1"
      ]
     },
     "execution_count": 2,
     "metadata": {},
     "output_type": "execute_result"
    }
   ],
   "source": [
    "# Resta\n",
    "2-1"
   ]
  },
  {
   "cell_type": "code",
   "execution_count": 3,
   "metadata": {},
   "outputs": [
    {
     "data": {
      "text/plain": [
       "4"
      ]
     },
     "execution_count": 3,
     "metadata": {},
     "output_type": "execute_result"
    }
   ],
   "source": [
    "# Multiplicación\n",
    "2*2"
   ]
  },
  {
   "cell_type": "code",
   "execution_count": 4,
   "metadata": {},
   "outputs": [
    {
     "data": {
      "text/plain": [
       "1.5"
      ]
     },
     "execution_count": 4,
     "metadata": {},
     "output_type": "execute_result"
    }
   ],
   "source": [
    "# División\n",
    "3/2"
   ]
  },
  {
   "cell_type": "code",
   "execution_count": 5,
   "metadata": {},
   "outputs": [
    {
     "data": {
      "text/plain": [
       "1"
      ]
     },
     "execution_count": 5,
     "metadata": {},
     "output_type": "execute_result"
    }
   ],
   "source": [
    "# División entera\n",
    "7//4"
   ]
  },
  {
   "cell_type": "markdown",
   "metadata": {},
   "source": [
    "**¿Qué ha ocurrido en este último resultado?, ¡7 entre 4 es 1.75 no 1!**\n",
    "\n",
    "La razón por la que ocurre esto, es porque hemos usado la división \"entera\". El operador //  (dos barras inclinadas) trunca el decimal, sin redondearlo,y devuelve un resultado entero."
   ]
  },
  {
   "cell_type": "markdown",
   "metadata": {},
   "source": [
    "**¿Y si queremos el resto de una división?**"
   ]
  },
  {
   "cell_type": "code",
   "execution_count": 6,
   "metadata": {},
   "outputs": [
    {
     "data": {
      "text/plain": [
       "3"
      ]
     },
     "execution_count": 6,
     "metadata": {},
     "output_type": "execute_result"
    }
   ],
   "source": [
    "# Módulo\n",
    "7%4"
   ]
  },
  {
   "cell_type": "markdown",
   "metadata": {},
   "source": [
    "7 entre 4 es 1, con resto 3. El operador % devuelve el resto de una división."
   ]
  },
  {
   "cell_type": "markdown",
   "metadata": {},
   "source": [
    "### Aritmética continuación"
   ]
  },
  {
   "cell_type": "code",
   "execution_count": 7,
   "metadata": {},
   "outputs": [
    {
     "data": {
      "text/plain": [
       "8"
      ]
     },
     "execution_count": 7,
     "metadata": {},
     "output_type": "execute_result"
    }
   ],
   "source": [
    "# Potencias\n",
    "2**3"
   ]
  },
  {
   "cell_type": "code",
   "execution_count": 8,
   "metadata": {},
   "outputs": [
    {
     "data": {
      "text/plain": [
       "2.0"
      ]
     },
     "execution_count": 8,
     "metadata": {},
     "output_type": "execute_result"
    }
   ],
   "source": [
    "# Raíces usando potencias\n",
    "4**0.5"
   ]
  },
  {
   "cell_type": "code",
   "execution_count": 9,
   "metadata": {},
   "outputs": [
    {
     "data": {
      "text/plain": [
       "105"
      ]
     },
     "execution_count": 9,
     "metadata": {},
     "output_type": "execute_result"
    }
   ],
   "source": [
    "# Orden de las operaciones en Python\n",
    "2 + 10 * 10 + 3"
   ]
  },
  {
   "cell_type": "code",
   "execution_count": 10,
   "metadata": {},
   "outputs": [
    {
     "data": {
      "text/plain": [
       "156"
      ]
     },
     "execution_count": 10,
     "metadata": {},
     "output_type": "execute_result"
    }
   ],
   "source": [
    "# Uso de paréntesis para especificar el orden de las operaciones.\n",
    "(2+10) * (10+3)"
   ]
  },
  {
   "cell_type": "markdown",
   "metadata": {},
   "source": [
    "## Asignación de Variables\n",
    "\n",
    "Ya hemos visto cómo usar los números en Python como si fuera una calculadora,ahora veremos cómo asignar nombres y crear variables.\n",
    "\n",
    "Usamos un símbolo igual = para asignar nombres a las variables. Veamos un par de ejemplos."
   ]
  },
  {
   "cell_type": "code",
   "execution_count": 13,
   "metadata": {},
   "outputs": [],
   "source": [
    "# Creemos un objeto llamado \"a\" y asignémoles el número 5.\n",
    "a = 5"
   ]
  },
  {
   "cell_type": "markdown",
   "metadata": {},
   "source": [
    "Ahora, si llamo *a* en mi script de Python, será tratado como el número 5."
   ]
  },
  {
   "cell_type": "code",
   "execution_count": 14,
   "metadata": {},
   "outputs": [
    {
     "data": {
      "text/plain": [
       "10"
      ]
     },
     "execution_count": 14,
     "metadata": {},
     "output_type": "execute_result"
    }
   ],
   "source": [
    "# Sumando los objetos\n",
    "a+a"
   ]
  },
  {
   "cell_type": "markdown",
   "metadata": {},
   "source": [
    "¿Podremos reasignar el valor de la variable?What happens on reassignment? Si"
   ]
  },
  {
   "cell_type": "code",
   "execution_count": 15,
   "metadata": {},
   "outputs": [],
   "source": [
    "# Reasignación\n",
    "a = 10"
   ]
  },
  {
   "cell_type": "code",
   "execution_count": 16,
   "metadata": {},
   "outputs": [
    {
     "data": {
      "text/plain": [
       "10"
      ]
     },
     "execution_count": 16,
     "metadata": {},
     "output_type": "execute_result"
    }
   ],
   "source": [
    "# Comprobación\n",
    "a"
   ]
  },
  {
   "cell_type": "markdown",
   "metadata": {},
   "source": [
    "Si, Python nos permite escribir encima de una variable previamente asignada. Incluso podemos usar la misma variable en la reasignación. Veamos un ejemplo:"
   ]
  },
  {
   "cell_type": "code",
   "execution_count": 17,
   "metadata": {},
   "outputs": [
    {
     "data": {
      "text/plain": [
       "10"
      ]
     },
     "execution_count": 17,
     "metadata": {},
     "output_type": "execute_result"
    }
   ],
   "source": [
    "# Prueba\n",
    "a"
   ]
  },
  {
   "cell_type": "code",
   "execution_count": 18,
   "metadata": {},
   "outputs": [],
   "source": [
    "# Uso de A para redefinir A\n",
    "a = a + a"
   ]
  },
  {
   "cell_type": "code",
   "execution_count": 19,
   "metadata": {},
   "outputs": [
    {
     "data": {
      "text/plain": [
       "20"
      ]
     },
     "execution_count": 19,
     "metadata": {},
     "output_type": "execute_result"
    }
   ],
   "source": [
    "# Prueba\n",
    "a"
   ]
  },
  {
   "cell_type": "markdown",
   "metadata": {},
   "source": [
    "Los nombres usados para nombrar las variables siguen algunas reglas:\n",
    "\n",
    "    1. Los nombres no deben comenzar con un número.\n",
    "    2. No debe haver espacios en el nombre, podemos usar guión bajo _ en cambio.\n",
    "    3. No podemos usar ninguno de estos símbolos:'\",<>/?|\\()!@#$%^&*~-+\n",
    "    4. Está considereada como una buena práctica (PEP8) usar minúsculas en los nombres.\n",
    "    5. Evitar el uso de la letra 'l' (l minúscula), 'O' (o mayúscula), \n",
    "       o 'I' (i mayúscula) como nombres de variables de una sola letra.\n",
    "    6. Evitar usar palabras especiales reservadas por Pythoncomo \"list\" y \"str\"\n",
    "\n",
    "\n",
    "Usar variables con nombre puede ser muy útil para seguir la pista a cada una de las variables en Python. Por ejemplo:"
   ]
  },
  {
   "cell_type": "code",
   "execution_count": 20,
   "metadata": {},
   "outputs": [],
   "source": [
    "# Uso de nombres en las variables para seguir mejor qué está pasando en tu código:\n",
    "mis_ingresos = 100\n",
    "\n",
    "tasa_impuestos = 0.1\n",
    "\n",
    "mis_impuestos = mis_ingresos*tasa_impuestos"
   ]
  },
  {
   "cell_type": "code",
   "execution_count": 21,
   "metadata": {},
   "outputs": [
    {
     "data": {
      "text/plain": [
       "10.0"
      ]
     },
     "execution_count": 21,
     "metadata": {},
     "output_type": "execute_result"
    }
   ],
   "source": [
    "# Veamos mis impuestos\n",
    "mis_impuestos"
   ]
  },
  {
   "cell_type": "markdown",
   "metadata": {},
   "source": [
    "¿qué hemos aprendido? Hemos aprendido algo de los núremos básicos en Python. También hemos aprendido cómo hace algo de aritmética en Python como una calculadora. Finalmente hemos aprendido algo de asignación de variables en Python.\n",
    "\n"
   ]
  }
 ],
 "metadata": {
  "anaconda-cloud": {},
  "kernelspec": {
   "display_name": "Python 3",
   "language": "python",
   "name": "python3"
  },
  "language_info": {
   "codemirror_mode": {
    "name": "ipython",
    "version": 3
   },
   "file_extension": ".py",
   "mimetype": "text/x-python",
   "name": "python",
   "nbconvert_exporter": "python",
   "pygments_lexer": "ipython3",
   "version": "3.7.0"
  }
 },
 "nbformat": 4,
 "nbformat_minor": 1
}
