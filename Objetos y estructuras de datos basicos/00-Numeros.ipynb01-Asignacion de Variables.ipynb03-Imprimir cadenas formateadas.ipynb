{
 "cells": [
  {
   "cell_type": "markdown",
   "metadata": {},
   "source": [
    "# Formateo de cadenas\n",
    "\n",
    "El formateo de cadenas nos permite inyectar intems en una cadena, sin tener que ir concatenándolos. Veamos unapequeña comparativa:\n",
    "\n",
    "    jugador = 'Juan'\n",
    "    puntos = 33\n",
    "    \n",
    "    'Esta noche, '+jugador+' anotó '+str(puntos)+' puntos.'  # concatenación\n",
    "    \n",
    "    f'Esta noche, {jugador} anotó {puntos} punts.'          # formateo de cadenas\n",
    "\n",
    "\n",
    "Hay tres formas de llevar a cabo el formateo de cadenas.\n",
    "* El método antiguo que usa el carácter porcentaje `%`.\n",
    "* Un método mejorado que usa el método de cadenas  `.format()`.\n",
    "* El método más nuevoThe, introducido en Python 3.6, que usa cadenas literales formateadas, llamadas *f-strings*.\n",
    "\n",
    "Como podemos encontrarnos las tres versiones al leer el código de otro programador, veremos ejemplos de los tres."
   ]
  },
  {
   "cell_type": "markdown",
   "metadata": {},
   "source": [
    "## Formateando con %\n",
    "Puedes usar <code>%s</code> para inyectar cadenas en tus sentencias de impresión. El carácter `%` hace referencia a un \"operador de formateo de cadenas\"."
   ]
  },
  {
   "cell_type": "code",
   "execution_count": 1,
   "metadata": {},
   "outputs": [
    {
     "name": "stdout",
     "output_type": "stream",
     "text": [
      "Voy a inyectar algo aquí.\n"
     ]
    }
   ],
   "source": [
    "print(\"Voy a inyectar %s aquí.\" %'algo')"
   ]
  },
  {
   "cell_type": "markdown",
   "metadata": {},
   "source": [
    "Puedes pasar varios objetos poniendolos dentro de una tupla después del operador `%`."
   ]
  },
  {
   "cell_type": "code",
   "execution_count": 2,
   "metadata": {},
   "outputs": [
    {
     "name": "stdout",
     "output_type": "stream",
     "text": [
      "Voy a inyectar algún texto aquí, y más texto aquí.\n"
     ]
    }
   ],
   "source": [
    "print(\"Voy a inyectar %s texto aquí, y %s texto aquí.\" %('algún','más'))"
   ]
  },
  {
   "cell_type": "markdown",
   "metadata": {},
   "source": [
    "También podemos pasar nombres de variables:"
   ]
  },
  {
   "cell_type": "code",
   "execution_count": 3,
   "metadata": {},
   "outputs": [
    {
     "name": "stdout",
     "output_type": "stream",
     "text": [
      "Voy a inyectar algún texto aquí, y más texto aquí.\n"
     ]
    }
   ],
   "source": [
    "x, y = 'algún', 'más'\n",
    "print(\"Voy a inyectar %s texto aquí, y %s texto aquí.\"%(x,y))"
   ]
  },
  {
   "cell_type": "markdown",
   "metadata": {},
   "source": [
    "### Métodos de conversión de formato.\n",
    "Hay que mencionar que los dos métodos <code>%s</code> y <code>%r</code> convierten cualquier objeto de python en cadena usando dos métodos separados: `str()` y `repr()`. Aprenderemos más acerca de estas funciones más adelante, pero hay que destacar que  `%r` y `repr()` entregan una *representación en cadena* del objeto, incluyendo comillas y cualquier carácter de escape."
   ]
  },
  {
   "cell_type": "code",
   "execution_count": 4,
   "metadata": {},
   "outputs": [
    {
     "name": "stdout",
     "output_type": "stream",
     "text": [
      "Dijo que su nombre era Fred.\n",
      "Dijo que su nombre era 'Fred'.\n"
     ]
    }
   ],
   "source": [
    "print('Dijo que su nombre era %s.' %'Fred')\n",
    "print('Dijo que su nombre era %r.' %'Fred')"
   ]
  },
  {
   "cell_type": "markdown",
   "metadata": {},
   "source": [
    "Otro ejemplo, `\\t` inserta una tabulación en una cadena."
   ]
  },
  {
   "cell_type": "code",
   "execution_count": 5,
   "metadata": {},
   "outputs": [
    {
     "name": "stdout",
     "output_type": "stream",
     "text": [
      "Una vez capturé un pescado asi \tde grande.\n",
      "Una vez capturé un pescado 'asi \\tde grande'.\n"
     ]
    }
   ],
   "source": [
    "print('Una vez capturé un pescado %s.' %'asi \\tde grande')\n",
    "print('Una vez capturé un pescado %r.' %'asi \\tde grande')"
   ]
  },
  {
   "cell_type": "markdown",
   "metadata": {},
   "source": [
    "El operador `%s` convierte lo que ve en una cadena, incluyendo enteros y decimales. El operador `%d` convierte números a enteros, sin redondeo. Ejemplo:"
   ]
  },
  {
   "cell_type": "code",
   "execution_count": 6,
   "metadata": {},
   "outputs": [
    {
     "name": "stdout",
     "output_type": "stream",
     "text": [
      "He escrito 3.75 programas hoy.\n",
      "He escrito 3 programas hoy.\n"
     ]
    }
   ],
   "source": [
    "print('He escrito %s programas hoy.' %3.75)\n",
    "print('He escrito %d programas hoy.' %3.75)   "
   ]
  },
  {
   "cell_type": "markdown",
   "metadata": {},
   "source": [
    "### Padding y Precisión de números en coma flotante\n",
    "Números en coma flotante usan el formato <code>%5.2f</code>. Aquí, <code>5</code> sería el menor número de caractéres que la cadena debe contener; estos deberían ser rellenados con espacios en blanco si el número completo no contiene tantos dígitos. Además, <code>.2f</code> significa cuántos números tras el punto decimal se mostrarán. Veamos algunos ejemplos:"
   ]
  },
  {
   "cell_type": "code",
   "execution_count": 8,
   "metadata": {},
   "outputs": [
    {
     "name": "stdout",
     "output_type": "stream",
     "text": [
      "Numeros en coma flotante: 13.14\n"
     ]
    }
   ],
   "source": [
    "print('Numeros en coma flotante: %5.2f' %(13.144))"
   ]
  },
  {
   "cell_type": "code",
   "execution_count": 9,
   "metadata": {},
   "outputs": [
    {
     "name": "stdout",
     "output_type": "stream",
     "text": [
      "Numeros en coma flotante: 13\n"
     ]
    }
   ],
   "source": [
    "print('Numeros en coma flotante: %1.0f' %(13.144))"
   ]
  },
  {
   "cell_type": "code",
   "execution_count": 10,
   "metadata": {},
   "outputs": [
    {
     "name": "stdout",
     "output_type": "stream",
     "text": [
      "Numeros en coma flotante: 13.14400\n"
     ]
    }
   ],
   "source": [
    "print('Numeros en coma flotante: %1.5f' %(13.144))"
   ]
  },
  {
   "cell_type": "code",
   "execution_count": 11,
   "metadata": {},
   "outputs": [
    {
     "name": "stdout",
     "output_type": "stream",
     "text": [
      "Numeros en coma flotante:      13.14\n"
     ]
    }
   ],
   "source": [
    "print('Numeros en coma flotante: %10.2f' %(13.144))"
   ]
  },
  {
   "cell_type": "code",
   "execution_count": 12,
   "metadata": {},
   "outputs": [
    {
     "name": "stdout",
     "output_type": "stream",
     "text": [
      "Numeros en coma flotante:                     13.14\n"
     ]
    }
   ],
   "source": [
    "print('Numeros en coma flotante: %25.2f' %(13.144))"
   ]
  },
  {
   "cell_type": "markdown",
   "metadata": {},
   "source": [
    "Para más información podéis visitar https://docs.python.org/3/library/stdtypes.html#old-string-formatting"
   ]
  },
  {
   "cell_type": "markdown",
   "metadata": {},
   "source": [
    "### Formateo múltiple\n",
    "No hay nada que impida usar más de un método de conversión en la misma declaración:"
   ]
  },
  {
   "cell_type": "code",
   "execution_count": 13,
   "metadata": {},
   "outputs": [
    {
     "name": "stdout",
     "output_type": "stream",
     "text": [
      "Primero: hola!, Secundo:  3.14, Tercero: 'adios!'\n"
     ]
    }
   ],
   "source": [
    "print('Primero: %s, Secundo: %5.2f, Tercero: %r' %('hola!',3.1415,'adios!'))"
   ]
  },
  {
   "cell_type": "markdown",
   "metadata": {},
   "source": [
    "## Formateando con el método `.format()` \n",
    "Una forma mejor de formatear objetos en tus cadenas en tus sentencias de impresión es usar el método `.format()`. La sintáxis es:\n",
    "\n",
    "    'Cadena aquí {} y aquí {}'.format('algo1','algo2')\n",
    "    \n",
    "Por ejemplo:"
   ]
  },
  {
   "cell_type": "code",
   "execution_count": 14,
   "metadata": {},
   "outputs": [
    {
     "name": "stdout",
     "output_type": "stream",
     "text": [
      "Esto es una cadena con una  insercción\n"
     ]
    }
   ],
   "source": [
    "print('Esto es una cadena con una  {}'.format('insercción'))"
   ]
  },
  {
   "cell_type": "markdown",
   "metadata": {},
   "source": [
    "### El método  .format() tiene varias ventajas sobre el método %s :"
   ]
  },
  {
   "cell_type": "markdown",
   "metadata": {},
   "source": [
    "#### 1. Los objetos insertados se pueden llamar por su índice:"
   ]
  },
  {
   "cell_type": "code",
   "execution_count": 17,
   "metadata": {},
   "outputs": [
    {
     "name": "stdout",
     "output_type": "stream",
     "text": [
      "El rápido zorro marrón\n"
     ]
    }
   ],
   "source": [
    "print('El {2} {1} {0}'.format('marrón','zorro','rápido'))"
   ]
  },
  {
   "cell_type": "markdown",
   "metadata": {},
   "source": [
    "#### 2. A los objetos insertados le les puede asignar palabras clave:"
   ]
  },
  {
   "cell_type": "code",
   "execution_count": 19,
   "metadata": {},
   "outputs": [
    {
     "name": "stdout",
     "output_type": "stream",
     "text": [
      "Primer objeto: 1, Segundo objeto: Dos, Tercer objeto: 12.3\n"
     ]
    }
   ],
   "source": [
    "print('Primer objeto: {a}, Segundo objeto: {b}, Tercer objeto: {c}'.format(a=1,b='Dos',c=12.3))"
   ]
  },
  {
   "cell_type": "markdown",
   "metadata": {},
   "source": [
    "#### 3. Los objetos insertados pueden ser reutilizados, evitando la duplicación:"
   ]
  },
  {
   "cell_type": "code",
   "execution_count": 20,
   "metadata": {},
   "outputs": [
    {
     "name": "stdout",
     "output_type": "stream",
     "text": [
      "Un euro ahorrado es un euro ganado.\n",
      "Un euro ahorrado es un euro ganado.\n"
     ]
    }
   ],
   "source": [
    "print('Un %s ahorrado es un %s ganado.' %('euro','euro'))\n",
    "# vs.\n",
    "print('Un {p} ahorrado es un {p} ganado.'.format(p='euro'))"
   ]
  },
  {
   "cell_type": "markdown",
   "metadata": {},
   "source": [
    "### Alineación, espaciado y precisión con `.format()`\n",
    "En las llaves puedes asignar longitud del campo, alineación izquierda/derecha, parámetros de redondeo y más"
   ]
  },
  {
   "cell_type": "code",
   "execution_count": 21,
   "metadata": {},
   "outputs": [
    {
     "name": "stdout",
     "output_type": "stream",
     "text": [
      "Fruta    | Cantidad \n",
      "Manzanas |       3.0\n",
      "Naranjas |        10\n"
     ]
    }
   ],
   "source": [
    "print('{0:8} | {1:9}'.format('Fruta', 'Cantidad'))\n",
    "print('{0:8} | {1:9}'.format('Manzanas', 3.))\n",
    "print('{0:8} | {1:9}'.format('Naranjas', 10))"
   ]
  },
  {
   "cell_type": "markdown",
   "metadata": {},
   "source": [
    "Por defecto, `.format()` alinea el texto a la izquierda, y los números a la derecha. Podemos pasar un argumento adicional `<`,`^`, o `>` para definir una alineación izquierda, centrada o derecha:"
   ]
  },
  {
   "cell_type": "code",
   "execution_count": 22,
   "metadata": {},
   "outputs": [
    {
     "name": "stdout",
     "output_type": "stream",
     "text": [
      "izquireda |  centro  |  derecha\n",
      "11       |    22    |       33\n"
     ]
    }
   ],
   "source": [
    "print('{0:<8} | {1:^8} | {2:>8}'.format('izquireda','centro','derecha'))\n",
    "print('{0:<8} | {1:^8} | {2:>8}'.format(11,22,33))"
   ]
  },
  {
   "cell_type": "markdown",
   "metadata": {},
   "source": [
    "Puedes preceder el operador de alineación con un carácter de relleno"
   ]
  },
  {
   "cell_type": "code",
   "execution_count": 23,
   "metadata": {},
   "outputs": [
    {
     "name": "stdout",
     "output_type": "stream",
     "text": [
      "izquierda | -cenro-- | .derecha\n",
      "11====== | ---22--- | ......33\n"
     ]
    }
   ],
   "source": [
    "print('{0:=<8} | {1:-^8} | {2:.>8}'.format('izquierda','cenro','derecha'))\n",
    "print('{0:=<8} | {1:-^8} | {2:.>8}'.format(11,22,33))"
   ]
  },
  {
   "cell_type": "markdown",
   "metadata": {},
   "source": [
    "Los campor ancho y precisión se manejan de forma similar al método que hemos visto. Las siguientes sentencias de impresión son equivalentes:"
   ]
  },
  {
   "cell_type": "code",
   "execution_count": 24,
   "metadata": {},
   "outputs": [
    {
     "name": "stdout",
     "output_type": "stream",
     "text": [
      "Este es mi diez-decimales, dos-decimales número:     13.58\n",
      "Este es mi diez-decimales, dos-decimales número:     13.58\n"
     ]
    }
   ],
   "source": [
    "print('Este es mi diez-decimales, dos-decimales número:%10.2f' %13.579)\n",
    "print('Este es mi diez-decimales, dos-decimales número:{0:10.2f}'.format(13.579))"
   ]
  },
  {
   "cell_type": "markdown",
   "metadata": {},
   "source": [
    "Fijate que hay 5 espacios tras los dos puntos, y 5 caracteres contando  13.58, hasta un total de 10 caracteres.\n",
    "\n",
    "Para más información sore este método, puedes visitar https://docs.python.org/3/library/string.html#formatstrings"
   ]
  },
  {
   "cell_type": "markdown",
   "metadata": {},
   "source": [
    "## Cadenas literales formateadas (f-strings)"
   ]
  },
  {
   "cell_type": "markdown",
   "metadata": {},
   "source": [
    "El método introducido desde la versión 3.6 de Python, f-strings, ofrece bastantes beneficios sobre el método antiguo `.format()`."
   ]
  },
  {
   "cell_type": "code",
   "execution_count": 26,
   "metadata": {},
   "outputs": [
    {
     "name": "stdout",
     "output_type": "stream",
     "text": [
      "Él dijo que su nombre es Fred.\n"
     ]
    }
   ],
   "source": [
    "nombre = 'Fred'\n",
    "\n",
    "print(f\"Él dijo que su nombre es {nombre}.\")"
   ]
  },
  {
   "cell_type": "markdown",
   "metadata": {},
   "source": [
    "Pasamos `!r` para obtener la representación de la cadena:"
   ]
  },
  {
   "cell_type": "code",
   "execution_count": 27,
   "metadata": {},
   "outputs": [
    {
     "name": "stdout",
     "output_type": "stream",
     "text": [
      "Él dijo que su nombre es 'Fred'\n"
     ]
    }
   ],
   "source": [
    "print(f\"Él dijo que su nombre es {nombre!r}\")"
   ]
  },
  {
   "cell_type": "markdown",
   "metadata": {},
   "source": [
    "#### Más de formateo de decimales `\"resultado: {valor:{ancho}.{precisión}}\"`"
   ]
  },
  {
   "cell_type": "markdown",
   "metadata": {},
   "source": [
    "Mientras con el método `.format()` verías `{valor:10.4f}`, con el método f-strings verás `{valor:{10}.{6}}`\n"
   ]
  },
  {
   "cell_type": "code",
   "execution_count": 28,
   "metadata": {},
   "outputs": [
    {
     "name": "stdout",
     "output_type": "stream",
     "text": [
      "Mis 10 caracteres, 4 números decimales es:   23.4568\n",
      "Mis 10 caracteres, 4 números decimales es:   23.4568\n"
     ]
    }
   ],
   "source": [
    "num = 23.45678\n",
    "print(\"Mis 10 caracteres, 4 números decimales es:{0:10.4f}\".format(num))\n",
    "print(f\"Mis 10 caracteres, 4 números decimales es:{num:{10}.{6}}\")"
   ]
  },
  {
   "cell_type": "markdown",
   "metadata": {},
   "source": [
    "Nótese que con f-strings, *precisión* se refiere al total de números de dígitos, no solo los que hay tras el decimal. Esto se ajusta más a la notación científica y el análisis estadísticoThis."
   ]
  },
  {
   "cell_type": "code",
   "execution_count": 29,
   "metadata": {},
   "outputs": [
    {
     "name": "stdout",
     "output_type": "stream",
     "text": [
      "Mis 10 caracteres, 4 números decimales es:   23.4500\n",
      "Mis 10 caracteres, 4 números decimales es:     23.45\n"
     ]
    }
   ],
   "source": [
    "num = 23.45\n",
    "print(\"Mis 10 caracteres, 4 números decimales es:{0:10.4f}\".format(num))\n",
    "print(f\"Mis 10 caracteres, 4 números decimales es:{num:{10}.{6}}\")"
   ]
  },
  {
   "cell_type": "markdown",
   "metadata": {},
   "source": [
    "También podemos usar `.format()` dentro de una f-string:"
   ]
  },
  {
   "cell_type": "code",
   "execution_count": 30,
   "metadata": {},
   "outputs": [
    {
     "name": "stdout",
     "output_type": "stream",
     "text": [
      "Mis 10 caracteres, 4 números decimales es:   23.4500\n",
      "Mis 10 caracteres, 4 números decimales es:   23.4500\n"
     ]
    }
   ],
   "source": [
    "num = 23.45\n",
    "print(\"Mis 10 caracteres, 4 números decimales es:{0:10.4f}\".format(num))\n",
    "print(f\"Mis 10 caracteres, 4 números decimales es:{num:10.4f}\")"
   ]
  },
  {
   "cell_type": "markdown",
   "metadata": {},
   "source": [
    "Para más infirmación puedes visitar https://docs.python.org/3/reference/lexical_analysis.html#f-strings"
   ]
  },
  {
   "cell_type": "markdown",
   "metadata": {},
   "source": [
    "That is the basics of string formatting!"
   ]
  }
 ],
 "metadata": {
  "kernelspec": {
   "display_name": "Python 3",
   "language": "python",
   "name": "python3"
  },
  "language_info": {
   "codemirror_mode": {
    "name": "ipython",
    "version": 3
   },
   "file_extension": ".py",
   "mimetype": "text/x-python",
   "name": "python",
   "nbconvert_exporter": "python",
   "pygments_lexer": "ipython3",
   "version": "3.7.0"
  }
 },
 "nbformat": 4,
 "nbformat_minor": 1
}
