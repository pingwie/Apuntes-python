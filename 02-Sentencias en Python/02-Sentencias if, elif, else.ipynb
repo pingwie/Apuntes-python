{
 "cells": [
  {
   "cell_type": "markdown",
   "metadata": {},
   "source": [
    "# Sentencias if, elif, else\n",
    "\n",
    "La sentencia <code>if</code> en Python nos permite decir al ordenador que efectúe una tareas alternativas basadas en cierto tipo de resultado.\n",
    "\n",
    "Verbalmente, podemos imaginar que le estamos diciendo:\n",
    "\n",
    "\"Si ocurre este caso, ejecuta esta acción\"\n",
    "\n",
    "Podemos expandir esta idea un poco más con las sentencias <code>elif</code> y <code>else</code>, que nos permite decirle al ordenador:\n",
    "\n",
    "\"Si ocurre este caso, ejecuta esta acción. Si no, si ocurre esto otro, ejecuta esta acción. Si no, si *ninguna* de los casos anteriores ocurre, ejecuta esta acción.\"\n",
    "\n",
    "Veamos la sintaxis de todo esto para las sentencias <code>if</code> para entender todo esto mejor:\n",
    "\n",
    "    if caso1:\n",
    "        ejecuta la acción1\n",
    "    elif caso2:\n",
    "        ejecuta la acción2\n",
    "    else: \n",
    "        ejecuta la acción3"
   ]
  },
  {
   "cell_type": "markdown",
   "metadata": {},
   "source": [
    "## Primer Ejemplo\n",
    "\n",
    "Veamos un ejemplo de todo esto:"
   ]
  },
  {
   "cell_type": "code",
   "execution_count": 1,
   "metadata": {},
   "outputs": [
    {
     "name": "stdout",
     "output_type": "stream",
     "text": [
      "Es verdad\n"
     ]
    }
   ],
   "source": [
    "if True:\n",
    "    print('Es verdad')"
   ]
  },
  {
   "cell_type": "markdown",
   "metadata": {},
   "source": [
    "Añadamos un poco de lógico a todo esto:"
   ]
  },
  {
   "cell_type": "code",
   "execution_count": 2,
   "metadata": {},
   "outputs": [
    {
     "name": "stdout",
     "output_type": "stream",
     "text": [
      "Imprimiré esto en cualquier caso si x no es verdad\n"
     ]
    }
   ],
   "source": [
    "x = False\n",
    "\n",
    "if x:\n",
    "    print('x era verdad')\n",
    "else:\n",
    "    print('Imprimiré esto en cualquier caso si x no es verdad')"
   ]
  },
  {
   "cell_type": "markdown",
   "metadata": {},
   "source": [
    "### Múltiples Ramas\n",
    "\n",
    "Veamos una visión completa de cómo podemos llegar a usar <code>if</code>, <code>elif</code>, y <code>else</code>\n",
    "\n",
    "Escribiremos esto en una estructura anidada. Nota cómo el <code>if</code>, <code>elif</code>, y <code>else</code> están alineados en el código. Esto puede ayudarte a ver que <code>if</code> está relacionado con las sentencias <code>elif</code> o <code>else</code>.\n",
    "\n",
    "Introduzcamos otra comparación para Python."
   ]
  },
  {
   "cell_type": "code",
   "execution_count": 3,
   "metadata": {},
   "outputs": [
    {
     "name": "stdout",
     "output_type": "stream",
     "text": [
      "¿Dónde estás?\n"
     ]
    }
   ],
   "source": [
    "loc = 'Baco'\n",
    "\n",
    "if loc == 'Tienda de cochesAuto Shop':\n",
    "    print('Bienvenidos a la tienda de coches!')\n",
    "elif loc == 'Banco':\n",
    "    print('Bienvenidos al banco!')\n",
    "else:\n",
    "    print('¿Dónde estás?')"
   ]
  },
  {
   "cell_type": "markdown",
   "metadata": {},
   "source": [
    "Nota como las declaraciones <code>if</code> son todas comprobadas hasta que que un buleano True causa que el código anidado dentro se ejecute. Debes darte cuenta también que puedes poner tantas sentencias <code>elif</code> como quieras antes de cerrar con un <code>else</code>.\n",
    "\n",
    "Creemos dos ejemplos simples para las sentencias <code>if</code>, <code>elif</code>, y <code>else</code>:"
   ]
  },
  {
   "cell_type": "code",
   "execution_count": 5,
   "metadata": {},
   "outputs": [
    {
     "name": "stdout",
     "output_type": "stream",
     "text": [
      "Hola Luis!\n"
     ]
    }
   ],
   "source": [
    "persona = 'Luis'\n",
    "\n",
    "if persona == 'Luis':\n",
    "    print('Hola Luis!')\n",
    "else:\n",
    "    print(\"Hola, ¿cuál es tu nombre?\")"
   ]
  },
  {
   "cell_type": "code",
   "execution_count": 7,
   "metadata": {},
   "outputs": [
    {
     "name": "stdout",
     "output_type": "stream",
     "text": [
      "Hola Jorge!\n"
     ]
    }
   ],
   "source": [
    "persona = 'Jorge'\n",
    "\n",
    "if persona == 'Lui':\n",
    "    print('Hola Luis!')\n",
    "elif persona =='Jorge':\n",
    "    print('Hola Jorge!')\n",
    "else:\n",
    "    print(\"Hola, ¿cuál es tu nombre?\")"
   ]
  },
  {
   "cell_type": "markdown",
   "metadata": {},
   "source": [
    "## Identación\n",
    "\n",
    "Es importante entender bien cómo trabaja la identaciónen Python para mantenar la estructura y el orden de tu código."
   ]
  }
 ],
 "metadata": {
  "kernelspec": {
   "display_name": "Python 3",
   "language": "python",
   "name": "python3"
  },
  "language_info": {
   "codemirror_mode": {
    "name": "ipython",
    "version": 3
   },
   "file_extension": ".py",
   "mimetype": "text/x-python",
   "name": "python",
   "nbconvert_exporter": "python",
   "pygments_lexer": "ipython3",
   "version": "3.7.0"
  }
 },
 "nbformat": 4,
 "nbformat_minor": 1
}
