{
 "cells": [
  {
   "cell_type": "markdown",
   "metadata": {},
   "source": [
    "# Bucles for\n",
    "\n",
    "Un bucle <code>for</code> actúa como un iterador en Python; recorre objetos que están en *secuencia*  o cualquier objeto iterable. Algunos de los objetos que ya hemos aprendido nos permiten iterar sobre ellos,por ejemplos las cadenas, listas, tuplas y sobre las claves y los valores de un diccionario.\n",
    "\n",
    "Este es el formato general para un bucle <code>for</code> en Python:\n",
    "\n",
    "    for item in objeto:\n",
    "        declaración para hacer cosas\n",
    "    "
   ]
  },
  {
   "cell_type": "markdown",
   "metadata": {},
   "source": [
    "El nombre de la variable usada para el item es de libre elección para el progranador, así que procura usar el sentido común para elegir un nombre que tenga sentido y será más fácil entender el código cuando tengas que revisarlo. Este nombre para el item, puede ser referenciado dentro del bucle, por ejemplo si quieres usar sentencias <code>if</code> para realizar chequeos.\n",
    "\n",
    "Veamos algunos ejemplos de bucle <code>for</code>.\n",
    "\n",
    "## Ejemplo 1\n",
    "Iterando sobre una lista"
   ]
  },
  {
   "cell_type": "code",
   "execution_count": 1,
   "metadata": {},
   "outputs": [],
   "source": [
    "# Creemos una lista\n",
    "list1 = [1,2,3,4,5,6,7,8,9,10]"
   ]
  },
  {
   "cell_type": "code",
   "execution_count": 2,
   "metadata": {},
   "outputs": [
    {
     "name": "stdout",
     "output_type": "stream",
     "text": [
      "1\n",
      "2\n",
      "3\n",
      "4\n",
      "5\n",
      "6\n",
      "7\n",
      "8\n",
      "9\n",
      "10\n"
     ]
    }
   ],
   "source": [
    "for num in list1:\n",
    "    print(num)"
   ]
  },
  {
   "cell_type": "markdown",
   "metadata": {},
   "source": [
    "Bien! Espero que todo esto tenga sentido. Añadamos una sentencia <code>if</code> para comprobar si el número es par. Recordemos el concepto de: módulo.\n",
    "### Módulo\n",
    "El módulo nos permite obtener el resto de una división, y usa el símbolo %. Por ejemplo:"
   ]
  },
  {
   "cell_type": "code",
   "execution_count": 3,
   "metadata": {},
   "outputs": [
    {
     "data": {
      "text/plain": [
       "2"
      ]
     },
     "execution_count": 3,
     "metadata": {},
     "output_type": "execute_result"
    }
   ],
   "source": [
    "17 % 5"
   ]
  },
  {
   "cell_type": "markdown",
   "metadata": {},
   "source": [
    "El resto de dividir 17 entre 5 es 2. Veamos algunos ejemplos más:"
   ]
  },
  {
   "cell_type": "code",
   "execution_count": 4,
   "metadata": {},
   "outputs": [
    {
     "data": {
      "text/plain": [
       "1"
      ]
     },
     "execution_count": 4,
     "metadata": {},
     "output_type": "execute_result"
    }
   ],
   "source": [
    "# El resto es 1\n",
    "10 % 3"
   ]
  },
  {
   "cell_type": "code",
   "execution_count": 6,
   "metadata": {},
   "outputs": [
    {
     "data": {
      "text/plain": [
       "4"
      ]
     },
     "execution_count": 6,
     "metadata": {},
     "output_type": "execute_result"
    }
   ],
   "source": [
    "# El resto es 4\n",
    "18 % 7"
   ]
  },
  {
   "cell_type": "code",
   "execution_count": 8,
   "metadata": {},
   "outputs": [
    {
     "data": {
      "text/plain": [
       "0"
      ]
     },
     "execution_count": 8,
     "metadata": {},
     "output_type": "execute_result"
    }
   ],
   "source": [
    "# El resto es 0\n",
    "4 % 2"
   ]
  },
  {
   "cell_type": "markdown",
   "metadata": {},
   "source": [
    "Nota que si un número es divisible entre otro, el resto es 0. Podemos usar esto para ver si un número es par, comprobando si el resto de dividir por 2 es cero.\n",
    "\n",
    "Volvamos a los bucles <code>for</code>\n",
    "\n",
    "## Ejemplo 2\n",
    "Imprimamos los números pares de esa lista"
   ]
  },
  {
   "cell_type": "code",
   "execution_count": 9,
   "metadata": {},
   "outputs": [
    {
     "name": "stdout",
     "output_type": "stream",
     "text": [
      "2\n",
      "4\n",
      "6\n",
      "8\n",
      "10\n"
     ]
    }
   ],
   "source": [
    "for num in list1:\n",
    "    if num % 2 == 0:\n",
    "        print(num)"
   ]
  },
  {
   "cell_type": "markdown",
   "metadata": {},
   "source": [
    "Podríamos haber añadido una sentencia <code>else</code> aquí:"
   ]
  },
  {
   "cell_type": "code",
   "execution_count": 10,
   "metadata": {},
   "outputs": [
    {
     "name": "stdout",
     "output_type": "stream",
     "text": [
      "Impar\n",
      "2\n",
      "Impar\n",
      "4\n",
      "Impar\n",
      "6\n",
      "Impar\n",
      "8\n",
      "Impar\n",
      "10\n"
     ]
    }
   ],
   "source": [
    "for num in list1:\n",
    "    if num % 2 == 0:\n",
    "        print(num)\n",
    "    else:\n",
    "        print('Impar')"
   ]
  },
  {
   "cell_type": "markdown",
   "metadata": {},
   "source": [
    "## Ejemplo 3\n",
    "Otra idea común en los bucles <code>for</code> es mantener una especie de contador mientras recorremos las distintas iteraciones del bucle. Por ejemplos, creemos un bucle <code>for</code>que sume los elementos de la lista:"
   ]
  },
  {
   "cell_type": "code",
   "execution_count": 12,
   "metadata": {},
   "outputs": [
    {
     "name": "stdout",
     "output_type": "stream",
     "text": [
      "55\n"
     ]
    }
   ],
   "source": [
    "# comenzamos haciendo que la suma sea cero\n",
    "suma_lista = 0 \n",
    "\n",
    "for num in list1:\n",
    "    suma_lista = suma_lista + num\n",
    "\n",
    "print(suma_lista)"
   ]
  },
  {
   "cell_type": "markdown",
   "metadata": {},
   "source": [
    "Revisa la celda anterior para asegurarte que comprenses completamente todo. También podríamos haber escrito el código <code>+=</code> para llevar a cabo las sumas. Por ejemplo:"
   ]
  },
  {
   "cell_type": "code",
   "execution_count": 13,
   "metadata": {},
   "outputs": [
    {
     "name": "stdout",
     "output_type": "stream",
     "text": [
      "55\n"
     ]
    }
   ],
   "source": [
    "# Comenzamos inicializando la suma a cero\n",
    "suma_lista = 0 \n",
    "\n",
    "for num in list1:\n",
    "    suma_lista += num\n",
    "\n",
    "print(suma_lista)"
   ]
  },
  {
   "cell_type": "markdown",
   "metadata": {},
   "source": [
    "## Ejemplo 4\n",
    "Hemos usado el bucle <code>for</code> con listas, y qué hay de las cadenas? Recuerda que las cadenas son una secuencia, así que cuando iteramos sobre ellas accedemos a cada elemento de la cadena."
   ]
  },
  {
   "cell_type": "code",
   "execution_count": 14,
   "metadata": {},
   "outputs": [
    {
     "name": "stdout",
     "output_type": "stream",
     "text": [
      "E\n",
      "s\n",
      "t\n",
      "o\n",
      " \n",
      "e\n",
      "s\n",
      " \n",
      "u\n",
      "n\n",
      "a\n",
      " \n",
      "c\n",
      "a\n",
      "d\n",
      "e\n",
      "n\n",
      "a\n",
      ".\n"
     ]
    }
   ],
   "source": [
    "for letra in 'Esto es una cadena.':\n",
    "    print(letra)"
   ]
  },
  {
   "cell_type": "markdown",
   "metadata": {},
   "source": [
    "## Ejemplo 5\n",
    "Echemos un vistazo al bucle <code>for</code> usado en una tupla:"
   ]
  },
  {
   "cell_type": "code",
   "execution_count": 15,
   "metadata": {},
   "outputs": [
    {
     "name": "stdout",
     "output_type": "stream",
     "text": [
      "1\n",
      "2\n",
      "3\n",
      "4\n",
      "5\n"
     ]
    }
   ],
   "source": [
    "tup = (1,2,3,4,5)\n",
    "\n",
    "for t in tup:\n",
    "    print(t)"
   ]
  },
  {
   "cell_type": "markdown",
   "metadata": {},
   "source": [
    "## Ejemplo 6\n",
    "Las tuplas tienen una característica especial cuando usamos bucles <code>for</code>. Si estás iterando sobre una secuencia que contiene tuplas, el elemento puede ser la misma tupla, esto es un ejemplo de *desempaquetado de tuplas* . Durante el bucle <code>for</code> desempaquetaremos la tupla dentro de la secuencia, y podremos accder a los elementos individuales de la tupla."
   ]
  },
  {
   "cell_type": "code",
   "execution_count": 16,
   "metadata": {},
   "outputs": [],
   "source": [
    "list2 = [(2,4),(6,8),(10,12)]"
   ]
  },
  {
   "cell_type": "code",
   "execution_count": 17,
   "metadata": {},
   "outputs": [
    {
     "name": "stdout",
     "output_type": "stream",
     "text": [
      "(2, 4)\n",
      "(6, 8)\n",
      "(10, 12)\n"
     ]
    }
   ],
   "source": [
    "for tup in list2:\n",
    "    print(tup)"
   ]
  },
  {
   "cell_type": "code",
   "execution_count": 18,
   "metadata": {},
   "outputs": [
    {
     "name": "stdout",
     "output_type": "stream",
     "text": [
      "2\n",
      "6\n",
      "10\n"
     ]
    }
   ],
   "source": [
    "# Ahora desempaquetando\n",
    "for (t1,t2) in list2:\n",
    "    print(t1)"
   ]
  },
  {
   "cell_type": "markdown",
   "metadata": {},
   "source": [
    "## Ejemplo 7"
   ]
  },
  {
   "cell_type": "code",
   "execution_count": 21,
   "metadata": {},
   "outputs": [],
   "source": [
    "d = {'k1':1,'k2':2,'k3':3}"
   ]
  },
  {
   "cell_type": "code",
   "execution_count": 22,
   "metadata": {},
   "outputs": [
    {
     "name": "stdout",
     "output_type": "stream",
     "text": [
      "k1\n",
      "k2\n",
      "k3\n"
     ]
    }
   ],
   "source": [
    "for item in d:\n",
    "    print(item)"
   ]
  },
  {
   "cell_type": "markdown",
   "metadata": {},
   "source": [
    "Fijate que en los diccionarios esto devuelve solo las claves. ¿Cómo podemos obtener los valores? ¿O los valores y las claves a la vez?\n",
    "\n",
    "Podemos usar los siguientes métodos para diccionarios:**.keys()**, **.values()** y **.items()**\n",
    "\n",
    "En Python cada uno de estos métodos devuelve un *objeto de visualización del diccionario*. Esto soporta operaciones como pertenencia, test e iteración, pero su contenido no es independiente del diccionaro original –es solo una visualización. Veamos un ejemplo:"
   ]
  },
  {
   "cell_type": "code",
   "execution_count": 23,
   "metadata": {},
   "outputs": [
    {
     "data": {
      "text/plain": [
       "dict_items([('k1', 1), ('k2', 2), ('k3', 3)])"
      ]
     },
     "execution_count": 23,
     "metadata": {},
     "output_type": "execute_result"
    }
   ],
   "source": [
    "# Creemos un objeto de visualización del diccionario:\n",
    "d.items()"
   ]
  },
  {
   "cell_type": "markdown",
   "metadata": {},
   "source": [
    "Como el método .items() soporta iteración, podemos realizar un *desempaquetado del diccionario* para separar las claves y los valores."
   ]
  },
  {
   "cell_type": "code",
   "execution_count": 24,
   "metadata": {},
   "outputs": [
    {
     "name": "stdout",
     "output_type": "stream",
     "text": [
      "k1\n",
      "1\n",
      "k2\n",
      "2\n",
      "k3\n",
      "3\n"
     ]
    }
   ],
   "source": [
    "# Desempaquetado de diccionario:\n",
    "for k,v in d.items():\n",
    "    print(k)\n",
    "    print(v) "
   ]
  },
  {
   "cell_type": "markdown",
   "metadata": {},
   "source": [
    "Si quieres una lista con las claves o los valores, puedes *capturar* la vista en una lista:"
   ]
  },
  {
   "cell_type": "code",
   "execution_count": 25,
   "metadata": {},
   "outputs": [
    {
     "data": {
      "text/plain": [
       "['k1', 'k2', 'k3']"
      ]
     },
     "execution_count": 25,
     "metadata": {},
     "output_type": "execute_result"
    }
   ],
   "source": [
    "list(d.keys())"
   ]
  },
  {
   "cell_type": "markdown",
   "metadata": {},
   "source": [
    "Recuerda que los diccionarios están desordenados, y que las claves y los valores son devueltos en un orden arbitrario. Puedes ordenarlos usando el método sorted():"
   ]
  },
  {
   "cell_type": "code",
   "execution_count": 26,
   "metadata": {},
   "outputs": [
    {
     "data": {
      "text/plain": [
       "[1, 2, 3]"
      ]
     },
     "execution_count": 26,
     "metadata": {},
     "output_type": "execute_result"
    }
   ],
   "source": [
    "sorted(d.values())"
   ]
  },
  {
   "cell_type": "markdown",
   "metadata": {},
   "source": [
    "## Conclusión\n",
    "\n",
    "hemos visto cómo usar los bucles for para iterar sobre tuplas, listas, cadenas y diccionaros.\n",
    "\n",
    "[Más recursos](http://www.tutorialspoint.com/python/python_for_loop.htm)"
   ]
  }
 ],
 "metadata": {
  "kernelspec": {
   "display_name": "Python 3",
   "language": "python",
   "name": "python3"
  },
  "language_info": {
   "codemirror_mode": {
    "name": "ipython",
    "version": 3
   },
   "file_extension": ".py",
   "mimetype": "text/x-python",
   "name": "python",
   "nbconvert_exporter": "python",
   "pygments_lexer": "ipython3",
   "version": "3.7.0"
  }
 },
 "nbformat": 4,
 "nbformat_minor": 1
}
