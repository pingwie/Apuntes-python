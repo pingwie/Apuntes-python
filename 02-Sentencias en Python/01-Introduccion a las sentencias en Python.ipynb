{
 "cells": [
  {
   "cell_type": "markdown",
   "metadata": {
    "slideshow": {
     "slide_type": "slide"
    }
   },
   "source": [
    "# Introducción a Sentencias en Python\n",
    "\n",
    "En esta lección veremos una introducción a las sentencias en Python. Señalaremos algunas diferencias entre Python y otros lenguajes de programación como C++. "
   ]
  },
  {
   "cell_type": "markdown",
   "metadata": {
    "slideshow": {
     "slide_type": "slide"
    }
   },
   "source": [
    "## Python vs Otros Lenguajes\n",
    "\n",
    "Creemos una simple sentencia que diga:\n",
    "\"Si a es mayor que b, asigna 2 a la a y 4 a la b\"\n",
    "\n",
    "Vemos estas dos sentencias if.\n",
    "\n",
    "**Versión 1 (Otros Lenguajes)**\n",
    "\n",
    "    if (a>b){\n",
    "        a = 2;\n",
    "        b = 4;\n",
    "    }\n",
    "                        \n",
    "**Versión 2 (Python)**   \n",
    "\n",
    "    if a>b:\n",
    "        a = 2\n",
    "        b = 4"
   ]
  },
  {
   "cell_type": "markdown",
   "metadata": {},
   "source": [
    "Notarás que la versión de Python está más limpia y es más fácil de leer que la primera versión. ¿Cómo maneja Pythonesto?\n",
    "\n",
    "Veamos las principales diferencias:\n",
    "\n",
    "Python omite los () y los {} mediante la incorporación de dos factores: *dos puntos* y *espacios*. La declaración termina con dos puntos, y el espacio en blanco (identación) se usa para describir que hacer en caso de que se cumpla la sentencia.\n",
    "\n",
    "Otra gran diferencia es la ausencia de ; en Python. El punto-y-coma se usan para denotar el fin de una sentencia en otros lenguajes, pero en Python, el fin de una línea equivale al fin de la sentencia.\n",
    "\n",
    "Por último, veamos la sintaxis de identación en Python vs otros lenguajes:\n",
    "\n",
    "## Identación\n",
    "\n",
    "Aquí hay algo de pseudo-código para indicar el uso del espacio en blanco y la identación en Python:\n",
    "\n",
    "**Otros Lenguajes**\n",
    "\n",
    "    if (x)\n",
    "        if(y)\n",
    "            código-con-sentencias;\n",
    "    else\n",
    "        otras-sentencias-de-código;\n",
    "        \n",
    "**Python**\n",
    "    \n",
    "    if x:\n",
    "        if y:\n",
    "            código-con-sentencias\n",
    "    else:\n",
    "        otras-sentencias-de-código"
   ]
  },
  {
   "cell_type": "markdown",
   "metadata": {},
   "source": [
    "Nótese cómo en Python es tan importante el uso de espacios en blanco y la identación. Esto significa que la legitividad del código es una parte clave en el diseño del lenguaje Python."
   ]
  }
 ],
 "metadata": {
  "kernelspec": {
   "display_name": "Python 3",
   "language": "python",
   "name": "python3"
  },
  "language_info": {
   "codemirror_mode": {
    "name": "ipython",
    "version": 3
   },
   "file_extension": ".py",
   "mimetype": "text/x-python",
   "name": "python",
   "nbconvert_exporter": "python",
   "pygments_lexer": "ipython3",
   "version": "3.7.0"
  }
 },
 "nbformat": 4,
 "nbformat_minor": 1
}
