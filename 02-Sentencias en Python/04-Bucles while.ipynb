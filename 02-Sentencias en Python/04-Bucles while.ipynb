{
 "cells": [
  {
   "cell_type": "markdown",
   "metadata": {
    "collapsed": true
   },
   "source": [
    "# Bucles while\n",
    "\n",
    "La sentencia <code>while</code> en Python es uno de los métodos más generalizados para realizar una iteración. Una sentencia <code>while</code> ejecutará repetidamente una orden o grupo de órdenes mientras que la condición sea cierta. La razón por la que se llama bucle es que el código de las órdenes entrarán en un bucle una y otra vez hasta que la condición no sea cierta.\n",
    "\n",
    "El formato general de un bucle for es:\n",
    "\n",
    "    while test:\n",
    "        sentencia de códigos\n",
    "    else:\n",
    "        sentencias de código fina\n",
    "\n",
    "Veamos algunos ejemplos simples del bucle <code>while</code> en acción. "
   ]
  },
  {
   "cell_type": "code",
   "execution_count": 1,
   "metadata": {},
   "outputs": [
    {
     "name": "stdout",
     "output_type": "stream",
     "text": [
      "x ahora mismo es:  0\n",
      " x es aun menor que 10, añadimos 1 a x\n",
      "x ahora mismo es:  1\n",
      " x es aun menor que 10, añadimos 1 a x\n",
      "x ahora mismo es:  2\n",
      " x es aun menor que 10, añadimos 1 a x\n",
      "x ahora mismo es:  3\n",
      " x es aun menor que 10, añadimos 1 a x\n",
      "x ahora mismo es:  4\n",
      " x es aun menor que 10, añadimos 1 a x\n",
      "x ahora mismo es:  5\n",
      " x es aun menor que 10, añadimos 1 a x\n",
      "x ahora mismo es:  6\n",
      " x es aun menor que 10, añadimos 1 a x\n",
      "x ahora mismo es:  7\n",
      " x es aun menor que 10, añadimos 1 a x\n",
      "x ahora mismo es:  8\n",
      " x es aun menor que 10, añadimos 1 a x\n",
      "x ahora mismo es:  9\n",
      " x es aun menor que 10, añadimos 1 a x\n"
     ]
    }
   ],
   "source": [
    "x = 0\n",
    "\n",
    "while x < 10:\n",
    "    print('x ahora mismo es: ',x)\n",
    "    print(' x es aun menor que 10, añadimos 1 a x')\n",
    "    x+=1"
   ]
  },
  {
   "cell_type": "markdown",
   "metadata": {},
   "source": [
    "Nota cuántas veces la sentencia print ocurre y cómo el bucle <code>while</code> continúa en marcha hasta que la condición es cierta, lo que ocurre cuando x==10. Es importante notar que una vez que la condición se alcanza, el código se detiene. Veamos cómo añadir la sentencia <code>else</code>:"
   ]
  },
  {
   "cell_type": "code",
   "execution_count": 2,
   "metadata": {},
   "outputs": [
    {
     "name": "stdout",
     "output_type": "stream",
     "text": [
      "x ahora mismo es:  0\n",
      " x es aun menor que 10, añadimos 1 a x\n",
      "x ahora mismo es:  1\n",
      " x es aun menor que 10, añadimos 1 a x\n",
      "x ahora mismo es:  2\n",
      " x es aun menor que 10, añadimos 1 a x\n",
      "x ahora mismo es:  3\n",
      " x es aun menor que 10, añadimos 1 a x\n",
      "x ahora mismo es:  4\n",
      " x es aun menor que 10, añadimos 1 a x\n",
      "x ahora mismo es:  5\n",
      " x es aun menor que 10, añadimos 1 a x\n",
      "x ahora mismo es:  6\n",
      " x es aun menor que 10, añadimos 1 a x\n",
      "x ahora mismo es:  7\n",
      " x es aun menor que 10, añadimos 1 a x\n",
      "x ahora mismo es:  8\n",
      " x es aun menor que 10, añadimos 1 a x\n",
      "x ahora mismo es:  9\n",
      " x es aun menor que 10, añadimos 1 a x\n",
      "¡Trabajo finalizado!\n"
     ]
    }
   ],
   "source": [
    "x = 0\n",
    "\n",
    "while x < 10:\n",
    "    print('x ahora mismo es: ',x)\n",
    "    print(' x es aun menor que 10, añadimos 1 a x')\n",
    "    x+=1\n",
    "    \n",
    "else:\n",
    "    print('¡Trabajo finalizado!')"
   ]
  },
  {
   "cell_type": "markdown",
   "metadata": {},
   "source": [
    "# break, continue, pass\n",
    "\n",
    "Podemos usar las sentencias <code>break</code>, <code>continue</code>, y <code>pass</code> en nuestro bucle para añadir funcionalidad para varios casos. Las tres sentencias se definen así:\n",
    "\n",
    "    break: Salta fuera del bucle en el que estás..\n",
    "    continue: Vuelve al principio bucle en el que estás.\n",
    "    pass: No ejecuta ninguna acción.\n",
    "    \n",
    "    \n",
    "Respecto a las sentencias <code>break</code> y <code>continue</code>, el formato general del bucle <code>while</code> es:\n",
    "\n",
    "    while test: \n",
    "        algo de código\n",
    "        if test: \n",
    "            break\n",
    "        if test: \n",
    "            continue \n",
    "    else:\n",
    "\n",
    "Las sentencias <code>break</code> y <code>continue</code> pueden aparecer en cualquier lugar dentro del cuerpo del bucle, pero normalmente los pondremos más anidados, en conjunción con una sentencia <code>if</code> para realizar alguna acción basada en alguna condición.\n",
    "\n",
    "Veamos algunos ejemplos"
   ]
  },
  {
   "cell_type": "code",
   "execution_count": 4,
   "metadata": {},
   "outputs": [
    {
     "name": "stdout",
     "output_type": "stream",
     "text": [
      "x ahora mismo es:  0\n",
      " x es aun menor que 10, añadiendo 1 a x\n",
      "continuando...\n",
      "x ahora mismo es:  1\n",
      " x es aun menor que 10, añadiendo 1 a x\n",
      "continuando...\n",
      "x ahora mismo es:  2\n",
      " x es aun menor que 10, añadiendo 1 a x\n",
      "x==3\n",
      "x ahora mismo es:  3\n",
      " x es aun menor que 10, añadiendo 1 a x\n",
      "continuando...\n",
      "x ahora mismo es:  4\n",
      " x es aun menor que 10, añadiendo 1 a x\n",
      "continuando...\n",
      "x ahora mismo es:  5\n",
      " x es aun menor que 10, añadiendo 1 a x\n",
      "continuando...\n",
      "x ahora mismo es:  6\n",
      " x es aun menor que 10, añadiendo 1 a x\n",
      "continuando...\n",
      "x ahora mismo es:  7\n",
      " x es aun menor que 10, añadiendo 1 a x\n",
      "continuando...\n",
      "x ahora mismo es:  8\n",
      " x es aun menor que 10, añadiendo 1 a x\n",
      "continuando...\n",
      "x ahora mismo es:  9\n",
      " x es aun menor que 10, añadiendo 1 a x\n",
      "continuando...\n"
     ]
    }
   ],
   "source": [
    "x = 0\n",
    "\n",
    "while x < 10:\n",
    "    print('x ahora mismo es: ',x)\n",
    "    print(' x es aun menor que 10, añadiendo 1 a x')\n",
    "    x+=1\n",
    "    if x==3:\n",
    "        print('x==3')\n",
    "    else:\n",
    "        print('continuando...')\n",
    "        continue"
   ]
  },
  {
   "cell_type": "markdown",
   "metadata": {},
   "source": [
    "Nótese cómo tenemos una sentencia print cuando x==3, y un continue siendo impreso mientras continuamos con el bucle while. Vamos a usar break cuando x ==3 y veamos el resultado:"
   ]
  },
  {
   "cell_type": "code",
   "execution_count": 5,
   "metadata": {},
   "outputs": [
    {
     "name": "stdout",
     "output_type": "stream",
     "text": [
      "x ahora mismo es:  0\n",
      " x es aun menor que 10, añadiendo 1 a x\n",
      "continuando...\n",
      "x ahora mismo es:  1\n",
      " x es aun menor que 10, añadiendo 1 a x\n",
      "continuando...\n",
      "x ahora mismo es:  2\n",
      " x es aun menor que 10, añadiendo 1 a x\n",
      "x==3\n"
     ]
    }
   ],
   "source": [
    "x = 0\n",
    "\n",
    "while x < 10:\n",
    "    print('x ahora mismo es: ',x)\n",
    "    print(' x es aun menor que 10, añadiendo 1 a x')\n",
    "    x+=1\n",
    "    if x==3:\n",
    "        print('x==3')\n",
    "        break\n",
    "    else:\n",
    "        print('continuando...')\n",
    "        continue"
   ]
  },
  {
   "cell_type": "markdown",
   "metadata": {},
   "source": [
    "Nótese cómo la otra sentencia <code>else</code> no se alcanzó y *continuando...* no se imprimió\n",
    "\n",
    "Tras estos ejemplos, deberí haber quedado un poco más claro el uso de la sentencia <code>while</code>.\n",
    "\n",
    "**Atención Es posible crear un bucle infinito con la sentencia <code>while</code>. Por ejemplo:**"
   ]
  },
  {
   "cell_type": "code",
   "execution_count": null,
   "metadata": {},
   "outputs": [],
   "source": [
    "# DO NOT RUN THIS CODE!!!! \n",
    "while True:\n",
    "    print(\"I'm stuck in an infinite loop!\")"
   ]
  },
  {
   "cell_type": "markdown",
   "metadata": {
    "collapsed": true
   },
   "source": [
    "A quick note: If you *did* run the above cell, click on the Kernel menu above to restart the kernel!"
   ]
  }
 ],
 "metadata": {
  "kernelspec": {
   "display_name": "Python 3",
   "language": "python",
   "name": "python3"
  },
  "language_info": {
   "codemirror_mode": {
    "name": "ipython",
    "version": 3
   },
   "file_extension": ".py",
   "mimetype": "text/x-python",
   "name": "python",
   "nbconvert_exporter": "python",
   "pygments_lexer": "ipython3",
   "version": "3.7.0"
  }
 },
 "nbformat": 4,
 "nbformat_minor": 1
}
